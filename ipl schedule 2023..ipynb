{
 "cells": [
  {
   "cell_type": "code",
   "execution_count": 1,
   "id": "9cdb7c48",
   "metadata": {},
   "outputs": [],
   "source": [
    "from bs4 import BeautifulSoup\n",
    "import requests\n",
    "import pandas as pd"
   ]
  },
  {
   "cell_type": "code",
   "execution_count": 2,
   "id": "6ea02d95",
   "metadata": {},
   "outputs": [],
   "source": [
    "url='https://currentaffairs.adda247.com/ipl-schedule-2023-time-table-venues-groups-and-teams/'"
   ]
  },
  {
   "cell_type": "code",
   "execution_count": 3,
   "id": "e7ac5e62",
   "metadata": {},
   "outputs": [
    {
     "data": {
      "text/plain": [
       "<Response [200]>"
      ]
     },
     "execution_count": 3,
     "metadata": {},
     "output_type": "execute_result"
    }
   ],
   "source": [
    "page=requests.get(url)\n",
    "page"
   ]
  },
  {
   "cell_type": "code",
   "execution_count": 4,
   "id": "e1aafaf6",
   "metadata": {},
   "outputs": [],
   "source": [
    "soup=BeautifulSoup(page.content,'html.parser')\n",
    "#soup.prettify"
   ]
  },
  {
   "cell_type": "code",
   "execution_count": 5,
   "id": "b676ded9",
   "metadata": {},
   "outputs": [],
   "source": [
    "body=soup.find('tbody')\n",
    "#body"
   ]
  },
  {
   "cell_type": "code",
   "execution_count": 11,
   "id": "1e3b1a75",
   "metadata": {},
   "outputs": [
    {
     "name": "stdout",
     "output_type": "stream",
     "text": [
      "71\n"
     ]
    }
   ],
   "source": [
    "table=body.find_all('tr')\n",
    "print(len(table))"
   ]
  },
  {
   "cell_type": "code",
   "execution_count": 31,
   "id": "3be1dd45",
   "metadata": {},
   "outputs": [],
   "source": [
    "ipl_info= []\n",
    "\n",
    "for matches in table:\n",
    "    dates=matches.find('td',style=\"text-align: center;width: 25.0399%\").get_text(strip=True)\n",
    "    team1=matches.find('td',style=\"text-align: center;width: 25.3589%\").get_text(strip=True)\n",
    "    team2=matches.find('td',style=\"text-align: center;width: 25.1994%\").get_text(strip=True)\n",
    "    venue=matches.find('td',style=\"text-align: center;width: 11.4035%\").get_text(strip=True)\n",
    "    time=matches.find('td',style=\"text-align: center;width: 25.4386%\").get_text(strip=True)\n",
    "    info=(dates,team1,team2,venue,time)\n",
    "    ipl_info.append(info)\n",
    "    "
   ]
  },
  {
   "cell_type": "code",
   "execution_count": 33,
   "id": "777d6c38",
   "metadata": {},
   "outputs": [
    {
     "data": {
      "text/html": [
       "<div>\n",
       "<style scoped>\n",
       "    .dataframe tbody tr th:only-of-type {\n",
       "        vertical-align: middle;\n",
       "    }\n",
       "\n",
       "    .dataframe tbody tr th {\n",
       "        vertical-align: top;\n",
       "    }\n",
       "\n",
       "    .dataframe thead th {\n",
       "        text-align: right;\n",
       "    }\n",
       "</style>\n",
       "<table border=\"1\" class=\"dataframe\">\n",
       "  <thead>\n",
       "    <tr style=\"text-align: right;\">\n",
       "      <th></th>\n",
       "      <th>Dates</th>\n",
       "      <th>Team1</th>\n",
       "      <th>Team2</th>\n",
       "      <th>Venue</th>\n",
       "      <th>Time</th>\n",
       "    </tr>\n",
       "  </thead>\n",
       "  <tbody>\n",
       "    <tr>\n",
       "      <th>0</th>\n",
       "      <td>Dates</td>\n",
       "      <td>Home Team</td>\n",
       "      <td>Away Team</td>\n",
       "      <td>Venue</td>\n",
       "      <td>Time</td>\n",
       "    </tr>\n",
       "    <tr>\n",
       "      <th>1</th>\n",
       "      <td>31- March-2023</td>\n",
       "      <td>Gujarat Titans</td>\n",
       "      <td>Chennai Super Kings</td>\n",
       "      <td>Ahmedabad</td>\n",
       "      <td>7:30 PM</td>\n",
       "    </tr>\n",
       "    <tr>\n",
       "      <th>2</th>\n",
       "      <td>01-April-2023</td>\n",
       "      <td>Punjab</td>\n",
       "      <td>Kolkata Knight Riders</td>\n",
       "      <td>Mohali</td>\n",
       "      <td>3:30 PM</td>\n",
       "    </tr>\n",
       "    <tr>\n",
       "      <th>3</th>\n",
       "      <td>01-April-2023</td>\n",
       "      <td>Lucknow Super Giants</td>\n",
       "      <td>Delhi Capitals</td>\n",
       "      <td>Lucknow</td>\n",
       "      <td>7:30 PM</td>\n",
       "    </tr>\n",
       "    <tr>\n",
       "      <th>4</th>\n",
       "      <td>02- April-2023</td>\n",
       "      <td>Sunrisers Hyderabad</td>\n",
       "      <td>Rajasthan Royals</td>\n",
       "      <td>Hyderabad</td>\n",
       "      <td>3:30 PM</td>\n",
       "    </tr>\n",
       "    <tr>\n",
       "      <th>...</th>\n",
       "      <td>...</td>\n",
       "      <td>...</td>\n",
       "      <td>...</td>\n",
       "      <td>...</td>\n",
       "      <td>...</td>\n",
       "    </tr>\n",
       "    <tr>\n",
       "      <th>66</th>\n",
       "      <td>19-May-2023</td>\n",
       "      <td>Punjab Kings</td>\n",
       "      <td>Delhi Capitals</td>\n",
       "      <td>Dharamshala</td>\n",
       "      <td>7:30 PM</td>\n",
       "    </tr>\n",
       "    <tr>\n",
       "      <th>67</th>\n",
       "      <td>20-May-2023</td>\n",
       "      <td>Delhi Capitals</td>\n",
       "      <td>Chennai Super Kings</td>\n",
       "      <td>Delhi</td>\n",
       "      <td>3:30 PM</td>\n",
       "    </tr>\n",
       "    <tr>\n",
       "      <th>68</th>\n",
       "      <td>20-May-2023</td>\n",
       "      <td>Kolkata Knight Riders</td>\n",
       "      <td>Lucknow Super Giants</td>\n",
       "      <td>Kolkata</td>\n",
       "      <td>7:30 PM</td>\n",
       "    </tr>\n",
       "    <tr>\n",
       "      <th>69</th>\n",
       "      <td>21-May-2023</td>\n",
       "      <td>Mumbai Indians</td>\n",
       "      <td>Sunrisers Hyderabad</td>\n",
       "      <td>Mumbai</td>\n",
       "      <td>3:30 PM</td>\n",
       "    </tr>\n",
       "    <tr>\n",
       "      <th>70</th>\n",
       "      <td>21-May-2023</td>\n",
       "      <td>Royal Challengers Bangalore</td>\n",
       "      <td>Gujarat Titans</td>\n",
       "      <td>Bengaluru</td>\n",
       "      <td>7:30 PM</td>\n",
       "    </tr>\n",
       "  </tbody>\n",
       "</table>\n",
       "<p>71 rows × 5 columns</p>\n",
       "</div>"
      ],
      "text/plain": [
       "             Dates                        Team1                  Team2  \\\n",
       "0            Dates                    Home Team              Away Team   \n",
       "1   31- March-2023               Gujarat Titans    Chennai Super Kings   \n",
       "2    01-April-2023                       Punjab  Kolkata Knight Riders   \n",
       "3    01-April-2023         Lucknow Super Giants         Delhi Capitals   \n",
       "4   02- April-2023          Sunrisers Hyderabad       Rajasthan Royals   \n",
       "..             ...                          ...                    ...   \n",
       "66     19-May-2023                 Punjab Kings         Delhi Capitals   \n",
       "67     20-May-2023               Delhi Capitals    Chennai Super Kings   \n",
       "68     20-May-2023        Kolkata Knight Riders   Lucknow Super Giants   \n",
       "69     21-May-2023               Mumbai Indians    Sunrisers Hyderabad   \n",
       "70     21-May-2023  Royal Challengers Bangalore         Gujarat Titans   \n",
       "\n",
       "          Venue     Time  \n",
       "0         Venue     Time  \n",
       "1     Ahmedabad  7:30 PM  \n",
       "2        Mohali  3:30 PM  \n",
       "3       Lucknow  7:30 PM  \n",
       "4     Hyderabad  3:30 PM  \n",
       "..          ...      ...  \n",
       "66  Dharamshala  7:30 PM  \n",
       "67        Delhi  3:30 PM  \n",
       "68      Kolkata  7:30 PM  \n",
       "69       Mumbai  3:30 PM  \n",
       "70    Bengaluru  7:30 PM  \n",
       "\n",
       "[71 rows x 5 columns]"
      ]
     },
     "execution_count": 33,
     "metadata": {},
     "output_type": "execute_result"
    }
   ],
   "source": [
    "ipl_schedule=pd.DataFrame(ipl_info,columns=['Dates','Team1','Team2','Venue','Time'])\n",
    "ipl_schedule"
   ]
  },
  {
   "cell_type": "code",
   "execution_count": 34,
   "id": "03da1453",
   "metadata": {},
   "outputs": [],
   "source": [
    "ipl_schedule.to_excel('ipl schedule 2023.xlsx',index=False)"
   ]
  },
  {
   "cell_type": "code",
   "execution_count": null,
   "id": "1e0bf048",
   "metadata": {},
   "outputs": [],
   "source": []
  }
 ],
 "metadata": {
  "kernelspec": {
   "display_name": "Python 3 (ipykernel)",
   "language": "python",
   "name": "python3"
  },
  "language_info": {
   "codemirror_mode": {
    "name": "ipython",
    "version": 3
   },
   "file_extension": ".py",
   "mimetype": "text/x-python",
   "name": "python",
   "nbconvert_exporter": "python",
   "pygments_lexer": "ipython3",
   "version": "3.9.13"
  }
 },
 "nbformat": 4,
 "nbformat_minor": 5
}
